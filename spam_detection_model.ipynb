{
 "cells": [
  {
   "cell_type": "markdown",
   "id": "1b04935e",
   "metadata": {},
   "source": [
    "## 1. Load essential libraries"
   ]
  },
  {
   "cell_type": "code",
   "execution_count": 2,
   "id": "33a80a80",
   "metadata": {},
   "outputs": [],
   "source": [
    "import pandas as pd\n",
    "import nltk\n",
    "from nltk.corpus import stopwords\n",
    "import string\n",
    "from nltk.stem import PorterStemmer\n",
    "from collections import Counter\n",
    "import matplotlib.pyplot as plot\n",
    "from sklearn.model_selection import train_test_split\n",
    "from sklearn.naive_bayes import MultinomialNB\n",
    "from sklearn.metrics import accuracy_score,precision_score,confusion_matrix\n",
    "from sklearn.preprocessing import MinMaxScaler\n",
    "from sklearn.feature_extraction.text import TfidfVectorizer\n",
    "import pickle"
   ]
  },
  {
   "cell_type": "code",
   "execution_count": 3,
   "id": "5ab49055",
   "metadata": {},
   "outputs": [],
   "source": [
    "data = pd.read_csv('spam.csv' ,encoding='latin1')"
   ]
  },
  {
   "cell_type": "code",
   "execution_count": 4,
   "id": "979cf8eb",
   "metadata": {},
   "outputs": [
    {
     "data": {
      "text/html": [
       "<div>\n",
       "<style scoped>\n",
       "    .dataframe tbody tr th:only-of-type {\n",
       "        vertical-align: middle;\n",
       "    }\n",
       "\n",
       "    .dataframe tbody tr th {\n",
       "        vertical-align: top;\n",
       "    }\n",
       "\n",
       "    .dataframe thead th {\n",
       "        text-align: right;\n",
       "    }\n",
       "</style>\n",
       "<table border=\"1\" class=\"dataframe\">\n",
       "  <thead>\n",
       "    <tr style=\"text-align: right;\">\n",
       "      <th></th>\n",
       "      <th>V1</th>\n",
       "      <th>V2</th>\n",
       "    </tr>\n",
       "  </thead>\n",
       "  <tbody>\n",
       "    <tr>\n",
       "      <th>4813</th>\n",
       "      <td>ham</td>\n",
       "      <td>In case you wake up wondering where I am, I fo...</td>\n",
       "    </tr>\n",
       "    <tr>\n",
       "      <th>4280</th>\n",
       "      <td>ham</td>\n",
       "      <td>I got a call from a landline number. . . I am ...</td>\n",
       "    </tr>\n",
       "    <tr>\n",
       "      <th>1057</th>\n",
       "      <td>ham</td>\n",
       "      <td>Dear how is chechi. Did you talk to her</td>\n",
       "    </tr>\n",
       "    <tr>\n",
       "      <th>113</th>\n",
       "      <td>ham</td>\n",
       "      <td>Yun ah.the ubi one say if ï¿½_ wan call by tom...</td>\n",
       "    </tr>\n",
       "    <tr>\n",
       "      <th>2524</th>\n",
       "      <td>spam</td>\n",
       "      <td>Call 09094100151 to use ur mins! Calls cast 10...</td>\n",
       "    </tr>\n",
       "    <tr>\n",
       "      <th>5699</th>\n",
       "      <td>ham</td>\n",
       "      <td>Hi. Hope you had a good day. Have a better night.</td>\n",
       "    </tr>\n",
       "    <tr>\n",
       "      <th>4604</th>\n",
       "      <td>spam</td>\n",
       "      <td>WINNER!! As a valued network customer you have...</td>\n",
       "    </tr>\n",
       "    <tr>\n",
       "      <th>5877</th>\n",
       "      <td>spam</td>\n",
       "      <td>URGENT Your grandson was arrested last night i...</td>\n",
       "    </tr>\n",
       "    <tr>\n",
       "      <th>1841</th>\n",
       "      <td>ham</td>\n",
       "      <td>But if she.s drinkin i'm ok.</td>\n",
       "    </tr>\n",
       "    <tr>\n",
       "      <th>1309</th>\n",
       "      <td>ham</td>\n",
       "      <td>I wanted to ask Ã¼ to wait 4 me to finish lect...</td>\n",
       "    </tr>\n",
       "  </tbody>\n",
       "</table>\n",
       "</div>"
      ],
      "text/plain": [
       "        V1                                                 V2\n",
       "4813   ham  In case you wake up wondering where I am, I fo...\n",
       "4280   ham  I got a call from a landline number. . . I am ...\n",
       "1057   ham            Dear how is chechi. Did you talk to her\n",
       "113    ham  Yun ah.the ubi one say if ï¿½_ wan call by tom...\n",
       "2524  spam  Call 09094100151 to use ur mins! Calls cast 10...\n",
       "5699   ham  Hi. Hope you had a good day. Have a better night.\n",
       "4604  spam  WINNER!! As a valued network customer you have...\n",
       "5877  spam  URGENT Your grandson was arrested last night i...\n",
       "1841   ham                       But if she.s drinkin i'm ok.\n",
       "1309   ham  I wanted to ask Ã¼ to wait 4 me to finish lect..."
      ]
     },
     "execution_count": 4,
     "metadata": {},
     "output_type": "execute_result"
    }
   ],
   "source": [
    "data.sample(10)"
   ]
  },
  {
   "cell_type": "code",
   "execution_count": 5,
   "id": "d2a2e7a9",
   "metadata": {},
   "outputs": [
    {
     "data": {
      "text/plain": [
       "(5880, 2)"
      ]
     },
     "execution_count": 5,
     "metadata": {},
     "output_type": "execute_result"
    }
   ],
   "source": [
    "data.shape"
   ]
  },
  {
   "cell_type": "markdown",
   "id": "c4db4742",
   "metadata": {},
   "source": [
    "## 2. Data Cleaning"
   ]
  },
  {
   "cell_type": "code",
   "execution_count": 6,
   "id": "908398a8",
   "metadata": {},
   "outputs": [
    {
     "name": "stdout",
     "output_type": "stream",
     "text": [
      "<class 'pandas.core.frame.DataFrame'>\n",
      "RangeIndex: 5880 entries, 0 to 5879\n",
      "Data columns (total 2 columns):\n",
      " #   Column  Non-Null Count  Dtype \n",
      "---  ------  --------------  ----- \n",
      " 0   V1      5880 non-null   object\n",
      " 1   V2      5880 non-null   object\n",
      "dtypes: object(2)\n",
      "memory usage: 92.0+ KB\n"
     ]
    }
   ],
   "source": [
    "data.info()"
   ]
  },
  {
   "cell_type": "code",
   "execution_count": 7,
   "id": "0547a20c",
   "metadata": {},
   "outputs": [],
   "source": [
    "data.rename(columns={'V1':'Category','V2':'Message'},inplace =True)"
   ]
  },
  {
   "cell_type": "code",
   "execution_count": 8,
   "id": "b982325e",
   "metadata": {},
   "outputs": [
    {
     "data": {
      "text/html": [
       "<div>\n",
       "<style scoped>\n",
       "    .dataframe tbody tr th:only-of-type {\n",
       "        vertical-align: middle;\n",
       "    }\n",
       "\n",
       "    .dataframe tbody tr th {\n",
       "        vertical-align: top;\n",
       "    }\n",
       "\n",
       "    .dataframe thead th {\n",
       "        text-align: right;\n",
       "    }\n",
       "</style>\n",
       "<table border=\"1\" class=\"dataframe\">\n",
       "  <thead>\n",
       "    <tr style=\"text-align: right;\">\n",
       "      <th></th>\n",
       "      <th>Category</th>\n",
       "      <th>Message</th>\n",
       "    </tr>\n",
       "  </thead>\n",
       "  <tbody>\n",
       "    <tr>\n",
       "      <th>5158</th>\n",
       "      <td>ham</td>\n",
       "      <td>S.this will increase the chance of winning.</td>\n",
       "    </tr>\n",
       "    <tr>\n",
       "      <th>3994</th>\n",
       "      <td>spam</td>\n",
       "      <td>You can stop further club tones by replying \"S...</td>\n",
       "    </tr>\n",
       "    <tr>\n",
       "      <th>5386</th>\n",
       "      <td>ham</td>\n",
       "      <td>Mark works tomorrow. He gets out at 5. His wor...</td>\n",
       "    </tr>\n",
       "    <tr>\n",
       "      <th>1043</th>\n",
       "      <td>ham</td>\n",
       "      <td>Customer place i will call you.</td>\n",
       "    </tr>\n",
       "    <tr>\n",
       "      <th>2293</th>\n",
       "      <td>ham</td>\n",
       "      <td>If we hit it off, you can move in with me :)</td>\n",
       "    </tr>\n",
       "    <tr>\n",
       "      <th>3855</th>\n",
       "      <td>ham</td>\n",
       "      <td>I will reach office around  &amp;lt;DECIMAL&amp;gt; . ...</td>\n",
       "    </tr>\n",
       "    <tr>\n",
       "      <th>3823</th>\n",
       "      <td>ham</td>\n",
       "      <td>Ok. I.ll do you right later.</td>\n",
       "    </tr>\n",
       "    <tr>\n",
       "      <th>2824</th>\n",
       "      <td>spam</td>\n",
       "      <td>Someone has contacted our dating service and e...</td>\n",
       "    </tr>\n",
       "    <tr>\n",
       "      <th>450</th>\n",
       "      <td>ham</td>\n",
       "      <td>Frnd s not juz a word.....not merely a relatio...</td>\n",
       "    </tr>\n",
       "    <tr>\n",
       "      <th>1724</th>\n",
       "      <td>ham</td>\n",
       "      <td>Ok... Help me ask if she's working tmr a not?</td>\n",
       "    </tr>\n",
       "  </tbody>\n",
       "</table>\n",
       "</div>"
      ],
      "text/plain": [
       "     Category                                            Message\n",
       "5158      ham        S.this will increase the chance of winning.\n",
       "3994     spam  You can stop further club tones by replying \"S...\n",
       "5386      ham  Mark works tomorrow. He gets out at 5. His wor...\n",
       "1043      ham                    Customer place i will call you.\n",
       "2293      ham       If we hit it off, you can move in with me :)\n",
       "3855      ham  I will reach office around  &lt;DECIMAL&gt; . ...\n",
       "3823      ham                       Ok. I.ll do you right later.\n",
       "2824     spam  Someone has contacted our dating service and e...\n",
       "450       ham  Frnd s not juz a word.....not merely a relatio...\n",
       "1724      ham      Ok... Help me ask if she's working tmr a not?"
      ]
     },
     "execution_count": 8,
     "metadata": {},
     "output_type": "execute_result"
    }
   ],
   "source": [
    "data.sample(10)"
   ]
  },
  {
   "cell_type": "code",
   "execution_count": 9,
   "id": "305c1ed0",
   "metadata": {},
   "outputs": [
    {
     "data": {
      "text/plain": [
       "Category    0\n",
       "Message     0\n",
       "dtype: int64"
      ]
     },
     "execution_count": 9,
     "metadata": {},
     "output_type": "execute_result"
    }
   ],
   "source": [
    "#check for any null values\n",
    "data.isnull().sum()"
   ]
  },
  {
   "cell_type": "code",
   "execution_count": 10,
   "id": "8c799ec6",
   "metadata": {},
   "outputs": [
    {
     "data": {
      "text/plain": [
       "0"
      ]
     },
     "execution_count": 10,
     "metadata": {},
     "output_type": "execute_result"
    }
   ],
   "source": [
    "#check for duplicate values\n",
    "data.duplicated().sum()"
   ]
  },
  {
   "cell_type": "code",
   "execution_count": 11,
   "id": "7d4e8e54",
   "metadata": {},
   "outputs": [],
   "source": [
    "#removing duplicate values\n",
    "data = data.drop_duplicates(keep='first')"
   ]
  },
  {
   "cell_type": "code",
   "execution_count": 12,
   "id": "2cf0904b",
   "metadata": {},
   "outputs": [
    {
     "name": "stdout",
     "output_type": "stream",
     "text": [
      "<class 'pandas.core.frame.DataFrame'>\n",
      "Int64Index: 5880 entries, 0 to 5879\n",
      "Data columns (total 2 columns):\n",
      " #   Column    Non-Null Count  Dtype \n",
      "---  ------    --------------  ----- \n",
      " 0   Category  5880 non-null   object\n",
      " 1   Message   5880 non-null   object\n",
      "dtypes: object(2)\n",
      "memory usage: 137.8+ KB\n"
     ]
    }
   ],
   "source": [
    "data.info()"
   ]
  },
  {
   "cell_type": "code",
   "execution_count": 13,
   "id": "84485833",
   "metadata": {},
   "outputs": [
    {
     "data": {
      "text/plain": [
       "ham     4980\n",
       "spam     900\n",
       "Name: Category, dtype: int64"
      ]
     },
     "execution_count": 13,
     "metadata": {},
     "output_type": "execute_result"
    }
   ],
   "source": [
    "data['Category'].value_counts()"
   ]
  },
  {
   "cell_type": "code",
   "execution_count": 14,
   "id": "61e32d23",
   "metadata": {},
   "outputs": [
    {
     "data": {
      "image/png": "[encoded data removed]",
      "text/plain": [
       "<Figure size 640x480 with 1 Axes>"
      ]
     },
     "metadata": {},
     "output_type": "display_data"
    }
   ],
   "source": [
    "plot.pie(data['Category'].value_counts(),labels=['ham','spam'],autopct=\"%0.2f\")\n",
    "plot.show()"
   ]
  },
  {
   "cell_type": "code",
   "execution_count": 15,
   "id": "9e53b829",
   "metadata": {},
   "outputs": [],
   "source": [
    "#no of characters\n",
    "data['No_character'] = data['Message'].apply(len)"
   ]
  },
  {
   "cell_type": "code",
   "execution_count": 16,
   "id": "e3734b39",
   "metadata": {},
   "outputs": [],
   "source": [
    "#no of words \n",
    "data['No_words'] = data['Message'].apply(lambda x:len(nltk.word_tokenize(x)))"
   ]
  },
  {
   "cell_type": "code",
   "execution_count": 17,
   "id": "5c468cb8",
   "metadata": {},
   "outputs": [],
   "source": [
    "#no of sentence\n",
    "data['No_sentence'] = data['Message'].apply(lambda x: len(nltk.sent_tokenize(x)))"
   ]
  },
  {
   "cell_type": "code",
   "execution_count": 18,
   "id": "3087abf5",
   "metadata": {},
   "outputs": [
    {
     "data": {
      "text/html": [
       "<div>\n",
       "<style scoped>\n",
       "    .dataframe tbody tr th:only-of-type {\n",
       "        vertical-align: middle;\n",
       "    }\n",
       "\n",
       "    .dataframe tbody tr th {\n",
       "        vertical-align: top;\n",
       "    }\n",
       "\n",
       "    .dataframe thead th {\n",
       "        text-align: right;\n",
       "    }\n",
       "</style>\n",
       "<table border=\"1\" class=\"dataframe\">\n",
       "  <thead>\n",
       "    <tr style=\"text-align: right;\">\n",
       "      <th></th>\n",
       "      <th>Category</th>\n",
       "      <th>Message</th>\n",
       "      <th>No_character</th>\n",
       "      <th>No_words</th>\n",
       "      <th>No_sentence</th>\n",
       "    </tr>\n",
       "  </thead>\n",
       "  <tbody>\n",
       "    <tr>\n",
       "      <th>3095</th>\n",
       "      <td>ham</td>\n",
       "      <td>I'm okay. Chasing the dream. What's good. What...</td>\n",
       "      <td>66</td>\n",
       "      <td>18</td>\n",
       "      <td>4</td>\n",
       "    </tr>\n",
       "    <tr>\n",
       "      <th>456</th>\n",
       "      <td>spam</td>\n",
       "      <td>You are a winner you have been specially selec...</td>\n",
       "      <td>161</td>\n",
       "      <td>30</td>\n",
       "      <td>3</td>\n",
       "    </tr>\n",
       "    <tr>\n",
       "      <th>3888</th>\n",
       "      <td>ham</td>\n",
       "      <td>HEY BABE! FAR 2 SPUN-OUT 2 SPK AT DA MO... DEA...</td>\n",
       "      <td>159</td>\n",
       "      <td>44</td>\n",
       "      <td>4</td>\n",
       "    </tr>\n",
       "    <tr>\n",
       "      <th>2685</th>\n",
       "      <td>ham</td>\n",
       "      <td>Those were my exact intentions</td>\n",
       "      <td>30</td>\n",
       "      <td>5</td>\n",
       "      <td>1</td>\n",
       "    </tr>\n",
       "    <tr>\n",
       "      <th>3141</th>\n",
       "      <td>ham</td>\n",
       "      <td>I meant middle left or right?</td>\n",
       "      <td>29</td>\n",
       "      <td>7</td>\n",
       "      <td>1</td>\n",
       "    </tr>\n",
       "    <tr>\n",
       "      <th>3031</th>\n",
       "      <td>spam</td>\n",
       "      <td>Knock Knock Txt whose there to 80082 to enter ...</td>\n",
       "      <td>156</td>\n",
       "      <td>31</td>\n",
       "      <td>2</td>\n",
       "    </tr>\n",
       "    <tr>\n",
       "      <th>1803</th>\n",
       "      <td>ham</td>\n",
       "      <td>Oh yes I can speak txt 2 u no! Hmm. Did u get ...</td>\n",
       "      <td>53</td>\n",
       "      <td>17</td>\n",
       "      <td>3</td>\n",
       "    </tr>\n",
       "    <tr>\n",
       "      <th>2523</th>\n",
       "      <td>ham</td>\n",
       "      <td>Hey darlin.. i can pick u up at college if u t...</td>\n",
       "      <td>84</td>\n",
       "      <td>23</td>\n",
       "      <td>1</td>\n",
       "    </tr>\n",
       "    <tr>\n",
       "      <th>4125</th>\n",
       "      <td>ham</td>\n",
       "      <td>Dear friends, sorry for the late information. ...</td>\n",
       "      <td>198</td>\n",
       "      <td>47</td>\n",
       "      <td>5</td>\n",
       "    </tr>\n",
       "    <tr>\n",
       "      <th>4164</th>\n",
       "      <td>ham</td>\n",
       "      <td>Just normal only here :)</td>\n",
       "      <td>24</td>\n",
       "      <td>6</td>\n",
       "      <td>1</td>\n",
       "    </tr>\n",
       "  </tbody>\n",
       "</table>\n",
       "</div>"
      ],
      "text/plain": [
       "     Category                                            Message  \\\n",
       "3095      ham  I'm okay. Chasing the dream. What's good. What...   \n",
       "456      spam  You are a winner you have been specially selec...   \n",
       "3888      ham  HEY BABE! FAR 2 SPUN-OUT 2 SPK AT DA MO... DEA...   \n",
       "2685      ham                     Those were my exact intentions   \n",
       "3141      ham                      I meant middle left or right?   \n",
       "3031     spam  Knock Knock Txt whose there to 80082 to enter ...   \n",
       "1803      ham  Oh yes I can speak txt 2 u no! Hmm. Did u get ...   \n",
       "2523      ham  Hey darlin.. i can pick u up at college if u t...   \n",
       "4125      ham  Dear friends, sorry for the late information. ...   \n",
       "4164      ham                           Just normal only here :)   \n",
       "\n",
       "      No_character  No_words  No_sentence  \n",
       "3095            66        18            4  \n",
       "456            161        30            3  \n",
       "3888           159        44            4  \n",
       "2685            30         5            1  \n",
       "3141            29         7            1  \n",
       "3031           156        31            2  \n",
       "1803            53        17            3  \n",
       "2523            84        23            1  \n",
       "4125           198        47            5  \n",
       "4164            24         6            1  "
      ]
     },
     "execution_count": 18,
     "metadata": {},
     "output_type": "execute_result"
    }
   ],
   "source": [
    "data.sample(10)\n"
   ]
  },
  {
   "cell_type": "code",
   "execution_count": 19,
   "id": "607c966e",
   "metadata": {},
   "outputs": [
    {
     "data": {
      "text/html": [
       "<div>\n",
       "<style scoped>\n",
       "    .dataframe tbody tr th:only-of-type {\n",
       "        vertical-align: middle;\n",
       "    }\n",
       "\n",
       "    .dataframe tbody tr th {\n",
       "        vertical-align: top;\n",
       "    }\n",
       "\n",
       "    .dataframe thead th {\n",
       "        text-align: right;\n",
       "    }\n",
       "</style>\n",
       "<table border=\"1\" class=\"dataframe\">\n",
       "  <thead>\n",
       "    <tr style=\"text-align: right;\">\n",
       "      <th></th>\n",
       "      <th>No_character</th>\n",
       "      <th>No_words</th>\n",
       "      <th>No_sentence</th>\n",
       "    </tr>\n",
       "  </thead>\n",
       "  <tbody>\n",
       "    <tr>\n",
       "      <th>count</th>\n",
       "      <td>4980.000000</td>\n",
       "      <td>4980.000000</td>\n",
       "      <td>4980.000000</td>\n",
       "    </tr>\n",
       "    <tr>\n",
       "      <th>mean</th>\n",
       "      <td>72.472490</td>\n",
       "      <td>17.558233</td>\n",
       "      <td>1.814859</td>\n",
       "    </tr>\n",
       "    <tr>\n",
       "      <th>std</th>\n",
       "      <td>57.160801</td>\n",
       "      <td>13.708658</td>\n",
       "      <td>1.284050</td>\n",
       "    </tr>\n",
       "    <tr>\n",
       "      <th>min</th>\n",
       "      <td>2.000000</td>\n",
       "      <td>1.000000</td>\n",
       "      <td>1.000000</td>\n",
       "    </tr>\n",
       "    <tr>\n",
       "      <th>25%</th>\n",
       "      <td>34.000000</td>\n",
       "      <td>9.000000</td>\n",
       "      <td>1.000000</td>\n",
       "    </tr>\n",
       "    <tr>\n",
       "      <th>50%</th>\n",
       "      <td>54.000000</td>\n",
       "      <td>13.000000</td>\n",
       "      <td>1.000000</td>\n",
       "    </tr>\n",
       "    <tr>\n",
       "      <th>75%</th>\n",
       "      <td>95.000000</td>\n",
       "      <td>23.000000</td>\n",
       "      <td>2.000000</td>\n",
       "    </tr>\n",
       "    <tr>\n",
       "      <th>max</th>\n",
       "      <td>910.000000</td>\n",
       "      <td>220.000000</td>\n",
       "      <td>28.000000</td>\n",
       "    </tr>\n",
       "  </tbody>\n",
       "</table>\n",
       "</div>"
      ],
      "text/plain": [
       "       No_character     No_words  No_sentence\n",
       "count   4980.000000  4980.000000  4980.000000\n",
       "mean      72.472490    17.558233     1.814859\n",
       "std       57.160801    13.708658     1.284050\n",
       "min        2.000000     1.000000     1.000000\n",
       "25%       34.000000     9.000000     1.000000\n",
       "50%       54.000000    13.000000     1.000000\n",
       "75%       95.000000    23.000000     2.000000\n",
       "max      910.000000   220.000000    28.000000"
      ]
     },
     "execution_count": 19,
     "metadata": {},
     "output_type": "execute_result"
    }
   ],
   "source": [
    "data[data['Category']=='ham'][['No_character','No_words','No_sentence']].describe()"
   ]
  },
  {
   "cell_type": "code",
   "execution_count": 20,
   "id": "90c06cf7",
   "metadata": {},
   "outputs": [
    {
     "data": {
      "text/html": [
       "<div>\n",
       "<style scoped>\n",
       "    .dataframe tbody tr th:only-of-type {\n",
       "        vertical-align: middle;\n",
       "    }\n",
       "\n",
       "    .dataframe tbody tr th {\n",
       "        vertical-align: top;\n",
       "    }\n",
       "\n",
       "    .dataframe thead th {\n",
       "        text-align: right;\n",
       "    }\n",
       "</style>\n",
       "<table border=\"1\" class=\"dataframe\">\n",
       "  <thead>\n",
       "    <tr style=\"text-align: right;\">\n",
       "      <th></th>\n",
       "      <th>No_character</th>\n",
       "      <th>No_words</th>\n",
       "      <th>No_sentence</th>\n",
       "    </tr>\n",
       "  </thead>\n",
       "  <tbody>\n",
       "    <tr>\n",
       "      <th>count</th>\n",
       "      <td>900.000000</td>\n",
       "      <td>900.000000</td>\n",
       "      <td>900.000000</td>\n",
       "    </tr>\n",
       "    <tr>\n",
       "      <th>mean</th>\n",
       "      <td>139.622222</td>\n",
       "      <td>27.902222</td>\n",
       "      <td>3.014444</td>\n",
       "    </tr>\n",
       "    <tr>\n",
       "      <th>std</th>\n",
       "      <td>28.956597</td>\n",
       "      <td>6.705583</td>\n",
       "      <td>1.513312</td>\n",
       "    </tr>\n",
       "    <tr>\n",
       "      <th>min</th>\n",
       "      <td>7.000000</td>\n",
       "      <td>2.000000</td>\n",
       "      <td>1.000000</td>\n",
       "    </tr>\n",
       "    <tr>\n",
       "      <th>25%</th>\n",
       "      <td>133.000000</td>\n",
       "      <td>25.000000</td>\n",
       "      <td>2.000000</td>\n",
       "    </tr>\n",
       "    <tr>\n",
       "      <th>50%</th>\n",
       "      <td>149.500000</td>\n",
       "      <td>29.000000</td>\n",
       "      <td>3.000000</td>\n",
       "    </tr>\n",
       "    <tr>\n",
       "      <th>75%</th>\n",
       "      <td>158.000000</td>\n",
       "      <td>32.000000</td>\n",
       "      <td>4.000000</td>\n",
       "    </tr>\n",
       "    <tr>\n",
       "      <th>max</th>\n",
       "      <td>225.000000</td>\n",
       "      <td>46.000000</td>\n",
       "      <td>8.000000</td>\n",
       "    </tr>\n",
       "  </tbody>\n",
       "</table>\n",
       "</div>"
      ],
      "text/plain": [
       "       No_character    No_words  No_sentence\n",
       "count    900.000000  900.000000   900.000000\n",
       "mean     139.622222   27.902222     3.014444\n",
       "std       28.956597    6.705583     1.513312\n",
       "min        7.000000    2.000000     1.000000\n",
       "25%      133.000000   25.000000     2.000000\n",
       "50%      149.500000   29.000000     3.000000\n",
       "75%      158.000000   32.000000     4.000000\n",
       "max      225.000000   46.000000     8.000000"
      ]
     },
     "execution_count": 20,
     "metadata": {},
     "output_type": "execute_result"
    }
   ],
   "source": [
    "data[data['Category']=='spam'][['No_character','No_words','No_sentence']].describe()"
   ]
  },
  {
   "cell_type": "markdown",
   "id": "5968f33f",
   "metadata": {},
   "source": [
    "## Data preprocessing\n",
    "* lowercase\n",
    "* Tokenization\n",
    "* Removing special characters\n",
    "* Removing stopwords and punctutation\n",
    "* Stemming"
   ]
  },
  {
   "cell_type": "code",
   "execution_count": 21,
   "id": "dbe44289",
   "metadata": {},
   "outputs": [],
   "source": [
    "ps = PorterStemmer()"
   ]
  },
  {
   "cell_type": "code",
   "execution_count": 22,
   "id": "853a072f",
   "metadata": {},
   "outputs": [],
   "source": [
    "def transform_text(Message):\n",
    "    Message = Message.lower()\n",
    "    Message = nltk.word_tokenize(Message)\n",
    "    y=[]\n",
    "    for i in Message:\n",
    "        if i.isalnum():\n",
    "            y.append(i)\n",
    "            \n",
    "    Message = y[:]\n",
    "    y.clear()\n",
    "    \n",
    "    for i in Message:\n",
    "        if i not in stopwords.words('english') and i not in string.punctuation:\n",
    "            y.append(i)\n",
    "            \n",
    "    Message = y[:]\n",
    "    y.clear()\n",
    "    \n",
    "    for i in Message:\n",
    "        y.append(ps.stem(i))\n",
    "        \n",
    "    return \" \".join(y)"
   ]
  },
  {
   "cell_type": "code",
   "execution_count": 23,
   "id": "30c9bd77-bc3c-415d-9bb1-cbe361aeafd3",
   "metadata": {},
   "outputs": [
    {
     "name": "stdout",
     "output_type": "stream",
     "text": [
      "meant calcul lt gt unit lt gt school realli expens start practic accent import decid 4year dental school nmde exam\n"
     ]
    }
   ],
   "source": [
    "transform_textt = transform_text(\"No. I meant the calculation is the same. That  &lt;#&gt; units at  &lt;#&gt; . This school is really expensive. Have you started practicing your accent. Because its important. And have you decided if you are doing 4years of dental school or if you'll just do the nmde exam.\")\n",
    "print(transform_textt)"
   ]
  },
  {
   "cell_type": "code",
   "execution_count": 24,
   "id": "7238dd1f",
   "metadata": {},
   "outputs": [],
   "source": [
    "data['transformed_text']=data['Message'].apply(transform_text)"
   ]
  },
  {
   "cell_type": "code",
   "execution_count": 25,
   "id": "e335a642",
   "metadata": {},
   "outputs": [
    {
     "data": {
      "text/html": [
       "<div>\n",
       "<style scoped>\n",
       "    .dataframe tbody tr th:only-of-type {\n",
       "        vertical-align: middle;\n",
       "    }\n",
       "\n",
       "    .dataframe tbody tr th {\n",
       "        vertical-align: top;\n",
       "    }\n",
       "\n",
       "    .dataframe thead th {\n",
       "        text-align: right;\n",
       "    }\n",
       "</style>\n",
       "<table border=\"1\" class=\"dataframe\">\n",
       "  <thead>\n",
       "    <tr style=\"text-align: right;\">\n",
       "      <th></th>\n",
       "      <th>Category</th>\n",
       "      <th>Message</th>\n",
       "      <th>No_character</th>\n",
       "      <th>No_words</th>\n",
       "      <th>No_sentence</th>\n",
       "      <th>transformed_text</th>\n",
       "    </tr>\n",
       "  </thead>\n",
       "  <tbody>\n",
       "    <tr>\n",
       "      <th>5853</th>\n",
       "      <td>ham</td>\n",
       "      <td>Yeh. Indians was nice. Tho it did kane me off ...</td>\n",
       "      <td>153</td>\n",
       "      <td>43</td>\n",
       "      <td>6</td>\n",
       "      <td>yeh indian nice tho kane bit shud go 4 drink s...</td>\n",
       "    </tr>\n",
       "    <tr>\n",
       "      <th>4336</th>\n",
       "      <td>ham</td>\n",
       "      <td>He's just gonna worry for nothing. And he won'...</td>\n",
       "      <td>74</td>\n",
       "      <td>20</td>\n",
       "      <td>2</td>\n",
       "      <td>gon na worri noth wo give money use</td>\n",
       "    </tr>\n",
       "    <tr>\n",
       "      <th>5127</th>\n",
       "      <td>ham</td>\n",
       "      <td>Me too. Mark is taking forever to pick up my p...</td>\n",
       "      <td>86</td>\n",
       "      <td>19</td>\n",
       "      <td>2</td>\n",
       "      <td>mark take forev pick prescript pain come back</td>\n",
       "    </tr>\n",
       "    <tr>\n",
       "      <th>3519</th>\n",
       "      <td>ham</td>\n",
       "      <td>Wat makes some people dearer is not just de ha...</td>\n",
       "      <td>119</td>\n",
       "      <td>29</td>\n",
       "      <td>2</td>\n",
       "      <td>wat make peopl dearer de happi dat u feel u me...</td>\n",
       "    </tr>\n",
       "    <tr>\n",
       "      <th>3909</th>\n",
       "      <td>ham</td>\n",
       "      <td>I got like $ &amp;lt;#&amp;gt; , I can get some more l...</td>\n",
       "      <td>85</td>\n",
       "      <td>25</td>\n",
       "      <td>2</td>\n",
       "      <td>got like lt gt get later though get whatev fee...</td>\n",
       "    </tr>\n",
       "    <tr>\n",
       "      <th>1014</th>\n",
       "      <td>spam</td>\n",
       "      <td>Congratulations ur awarded 500 of CD vouchers ...</td>\n",
       "      <td>150</td>\n",
       "      <td>23</td>\n",
       "      <td>1</td>\n",
       "      <td>congratul ur award 500 cd voucher 125gift guar...</td>\n",
       "    </tr>\n",
       "    <tr>\n",
       "      <th>2170</th>\n",
       "      <td>ham</td>\n",
       "      <td>Yes I posted a couple of pics on fb. There's s...</td>\n",
       "      <td>90</td>\n",
       "      <td>24</td>\n",
       "      <td>3</td>\n",
       "      <td>ye post coupl pic fb still snow outsid wake</td>\n",
       "    </tr>\n",
       "    <tr>\n",
       "      <th>5811</th>\n",
       "      <td>ham</td>\n",
       "      <td>Yes. Please leave at  &amp;lt;#&amp;gt; . So that at  ...</td>\n",
       "      <td>69</td>\n",
       "      <td>26</td>\n",
       "      <td>3</td>\n",
       "      <td>ye pleas leav lt gt lt gt leav</td>\n",
       "    </tr>\n",
       "    <tr>\n",
       "      <th>3649</th>\n",
       "      <td>spam</td>\n",
       "      <td>You have 1 new voicemail. Please call 08719181...</td>\n",
       "      <td>50</td>\n",
       "      <td>10</td>\n",
       "      <td>2</td>\n",
       "      <td>1 new voicemail pleas call 08719181513</td>\n",
       "    </tr>\n",
       "    <tr>\n",
       "      <th>374</th>\n",
       "      <td>ham</td>\n",
       "      <td>Short But Cute : \\ Be a good person</td>\n",
       "      <td>36</td>\n",
       "      <td>9</td>\n",
       "      <td>1</td>\n",
       "      <td>short cute good person</td>\n",
       "    </tr>\n",
       "  </tbody>\n",
       "</table>\n",
       "</div>"
      ],
      "text/plain": [
       "     Category                                            Message  \\\n",
       "5853      ham  Yeh. Indians was nice. Tho it did kane me off ...   \n",
       "4336      ham  He's just gonna worry for nothing. And he won'...   \n",
       "5127      ham  Me too. Mark is taking forever to pick up my p...   \n",
       "3519      ham  Wat makes some people dearer is not just de ha...   \n",
       "3909      ham  I got like $ &lt;#&gt; , I can get some more l...   \n",
       "1014     spam  Congratulations ur awarded 500 of CD vouchers ...   \n",
       "2170      ham  Yes I posted a couple of pics on fb. There's s...   \n",
       "5811      ham  Yes. Please leave at  &lt;#&gt; . So that at  ...   \n",
       "3649     spam  You have 1 new voicemail. Please call 08719181...   \n",
       "374       ham               Short But Cute : \\ Be a good person    \n",
       "\n",
       "      No_character  No_words  No_sentence  \\\n",
       "5853           153        43            6   \n",
       "4336            74        20            2   \n",
       "5127            86        19            2   \n",
       "3519           119        29            2   \n",
       "3909            85        25            2   \n",
       "1014           150        23            1   \n",
       "2170            90        24            3   \n",
       "5811            69        26            3   \n",
       "3649            50        10            2   \n",
       "374             36         9            1   \n",
       "\n",
       "                                       transformed_text  \n",
       "5853  yeh indian nice tho kane bit shud go 4 drink s...  \n",
       "4336                gon na worri noth wo give money use  \n",
       "5127      mark take forev pick prescript pain come back  \n",
       "3519  wat make peopl dearer de happi dat u feel u me...  \n",
       "3909  got like lt gt get later though get whatev fee...  \n",
       "1014  congratul ur award 500 cd voucher 125gift guar...  \n",
       "2170        ye post coupl pic fb still snow outsid wake  \n",
       "5811                     ye pleas leav lt gt lt gt leav  \n",
       "3649             1 new voicemail pleas call 08719181513  \n",
       "374                              short cute good person  "
      ]
     },
     "execution_count": 25,
     "metadata": {},
     "output_type": "execute_result"
    }
   ],
   "source": [
    "data.sample(10)"
   ]
  },
  {
   "cell_type": "code",
   "execution_count": 26,
   "id": "d0e3405b",
   "metadata": {},
   "outputs": [],
   "source": [
    "spam_cor=[]\n",
    "for msg in data[data['Category']=='spam']['transformed_text'].tolist():\n",
    "    for word in msg.split():\n",
    "        spam_cor.append(word)"
   ]
  },
  {
   "cell_type": "code",
   "execution_count": 27,
   "id": "35394ada",
   "metadata": {},
   "outputs": [],
   "source": [
    "count = Counter(spam_cor).most_common(10)"
   ]
  },
  {
   "cell_type": "code",
   "execution_count": 28,
   "id": "3369ecaf",
   "metadata": {},
   "outputs": [
    {
     "name": "stdout",
     "output_type": "stream",
     "text": [
      "[('call', 439), ('free', 236), ('2', 222), ('txt', 195), ('u', 173), ('ur', 167), ('mobil', 167), ('claim', 167), ('prize', 153), ('text', 149)]\n"
     ]
    }
   ],
   "source": [
    "print(count)"
   ]
  },
  {
   "cell_type": "code",
   "execution_count": 29,
   "id": "1e49402b",
   "metadata": {},
   "outputs": [],
   "source": [
    "ham_cor=[]\n",
    "for msg in data[data['Category']=='ham']['transformed_text'].tolist():\n",
    "    for word in msg.split():\n",
    "        ham_cor.append(word)"
   ]
  },
  {
   "cell_type": "code",
   "execution_count": 30,
   "id": "d0b618d2",
   "metadata": {},
   "outputs": [],
   "source": [
    "count = Counter(ham_cor).most_common(10)"
   ]
  },
  {
   "cell_type": "code",
   "execution_count": 31,
   "id": "2bcfa217",
   "metadata": {},
   "outputs": [
    {
     "name": "stdout",
     "output_type": "stream",
     "text": [
      "[('u', 1014), ('go', 484), ('get', 378), ('2', 340), ('come', 309), ('lt', 307), ('gt', 307), ('got', 272), ('like', 259), ('time', 254)]\n"
     ]
    }
   ],
   "source": [
    "print(count)"
   ]
  },
  {
   "cell_type": "markdown",
   "id": "012967f5",
   "metadata": {},
   "source": [
    "## 4. Model Building\n"
   ]
  },
  {
   "cell_type": "code",
   "execution_count": 32,
   "id": "ca4079f2",
   "metadata": {},
   "outputs": [],
   "source": [
    "tfidf = TfidfVectorizer(max_features=3000)"
   ]
  },
  {
   "cell_type": "code",
   "execution_count": 33,
   "id": "2efa7b64",
   "metadata": {},
   "outputs": [],
   "source": [
    "X = tfidf.fit_transform(data['transformed_text']).toarray()"
   ]
  },
  {
   "cell_type": "code",
   "execution_count": 34,
   "id": "023a2a7c",
   "metadata": {},
   "outputs": [
    {
     "data": {
      "text/plain": [
       "array([[0., 0., 0., ..., 0., 0., 0.],\n",
       "       [0., 0., 0., ..., 0., 0., 0.],\n",
       "       [0., 0., 0., ..., 0., 0., 0.],\n",
       "       ...,\n",
       "       [0., 0., 0., ..., 0., 0., 0.],\n",
       "       [0., 0., 0., ..., 0., 0., 0.],\n",
       "       [0., 0., 0., ..., 0., 0., 0.]])"
      ]
     },
     "execution_count": 34,
     "metadata": {},
     "output_type": "execute_result"
    }
   ],
   "source": [
    "scaler = MinMaxScaler()\n",
    "scaler.fit_transform(X)"
   ]
  },
  {
   "cell_type": "code",
   "execution_count": 35,
   "id": "3ccd24f1",
   "metadata": {},
   "outputs": [],
   "source": [
    "Y = data['Category'].values"
   ]
  },
  {
   "cell_type": "code",
   "execution_count": 36,
   "id": "dc907669",
   "metadata": {},
   "outputs": [
    {
     "data": {
      "text/plain": [
       "array(['spam', 'ham', 'spam', ..., 'spam', 'spam', 'spam'], dtype=object)"
      ]
     },
     "execution_count": 36,
     "metadata": {},
     "output_type": "execute_result"
    }
   ],
   "source": [
    "Y"
   ]
  },
  {
   "cell_type": "code",
   "execution_count": 37,
   "id": "4a3b6a3c",
   "metadata": {},
   "outputs": [],
   "source": [
    "X_train,X_test,Y_train,Y_test=  train_test_split(X,Y,random_state=2,test_size=0.2)"
   ]
  },
  {
   "cell_type": "code",
   "execution_count": 38,
   "id": "75e481f8",
   "metadata": {},
   "outputs": [],
   "source": [
    "mnb = MultinomialNB()"
   ]
  },
  {
   "cell_type": "code",
   "execution_count": 41,
   "id": "d6f9352f",
   "metadata": {},
   "outputs": [
    {
     "name": "stdout",
     "output_type": "stream",
     "text": [
      "0.9829931972789115\n",
      "0.9841268740070624\n"
     ]
    }
   ],
   "source": [
    "mnb.fit(X_train,Y_train)\n",
    "Y_pred = mnb.predict(X_test)\n",
    "print(accuracy_score(Y_test,Y_pred))\n",
    "print(precision_score(Y_test,Y_pred,average='macro'))"
   ]
  },
  {
   "cell_type": "code",
   "execution_count": 40,
   "id": "304e8344",
   "metadata": {},
   "outputs": [],
   "source": [
    "pickle.dump(tfidf,open('vector.pkl','wb'))\n",
    "pickle.dump(mnb,open('model.pkl','wb'))"
   ]
  },
  {
   "cell_type": "code",
   "execution_count": null,
   "id": "98a530e4",
   "metadata": {},
   "outputs": [],
   "source": []
  },
  {
   "cell_type": "code",
   "execution_count": null,
   "id": "b49863b8",
   "metadata": {},
   "outputs": [],
   "source": []
  },
  {
   "cell_type": "code",
   "execution_count": null,
   "id": "c2308f68",
   "metadata": {},
   "outputs": [],
   "source": []
  },
  {
   "cell_type": "code",
   "execution_count": null,
   "id": "d2bd34fc",
   "metadata": {},
   "outputs": [],
   "source": []
  }
 ],
 "metadata": {
  "kernelspec": {
   "display_name": "Python 3 (ipykernel)",
   "language": "python",
   "name": "python3"
  },
  "language_info": {
   "codemirror_mode": {
    "name": "ipython",
    "version": 3
   },
   "file_extension": ".py",
   "mimetype": "text/x-python",
   "name": "python",
   "nbconvert_exporter": "python",
   "pygments_lexer": "ipython3",
   "version": "3.9.13"
  }
 },
 "nbformat": 4,
 "nbformat_minor": 5
}
